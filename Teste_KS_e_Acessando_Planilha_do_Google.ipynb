{
  "nbformat": 4,
  "nbformat_minor": 0,
  "metadata": {
    "colab": {
      "name": "Teste KS e Acessando Planilha do Google.ipynb",
      "provenance": [],
      "collapsed_sections": [],
      "mount_file_id": "1FdytjyjlQZ9e75ZYszFcSCQ2Xa03iog7",
      "authorship_tag": "ABX9TyOgIb46qksbK9kBdxvZuDBr",
      "include_colab_link": true
    },
    "kernelspec": {
      "name": "python3",
      "display_name": "Python 3"
    }
  },
  "cells": [
    {
      "cell_type": "markdown",
      "metadata": {
        "id": "view-in-github",
        "colab_type": "text"
      },
      "source": [
        "<a href=\"https://colab.research.google.com/github/michellesantana/Estudo/blob/master/Teste_KS_e_Acessando_Planilha_do_Google.ipynb\" target=\"_parent\"><img src=\"https://colab.research.google.com/assets/colab-badge.svg\" alt=\"Open In Colab\"/></a>"
      ]
    },
    {
      "cell_type": "markdown",
      "metadata": {
        "id": "_vByOGuTIigV",
        "colab_type": "text"
      },
      "source": [
        "# **TESTE DE KOLMOGOROV-SMIRNOV**\n",
        "\n",
        "O teste KS nos ajuda a entender se os dados que queremos trabalhar seguem distribuição normal.\n",
        "\n",
        "Basicamente temos que calcular a estatística de teste KS e comparar com o valor crítico da estatística de teste, que varia de acordo com o tamanho (n) da amostra.\n",
        "\n",
        "Para aplicar o teste KS precisamos importar a bibliotecs 'Numpy' e o pacote 'stats' da biblioteca 'Scipy'.\n",
        "\n",
        "**Referências utilizadas:**\n",
        "\n",
        "[Documentação scipy.stats](https://docs.scipy.org/doc/scipy/reference/generated/scipy.stats.kstest.html#scipy.stats.kstest)\n",
        "\n",
        "[Portal Action](http://www.portalaction.com.br/inferencia/62-teste-de-kolmogorov-smirnov)\n",
        "\n",
        "[Youtube - Anderson Canteli](https://www.youtube.com/watch?v=-rUm7Lx5VbE)\n",
        "\n",
        "\n",
        "Na célula abaixo temos um conjunto de 10 observações, e testamos se esses dados são normais."
      ]
    },
    {
      "cell_type": "code",
      "metadata": {
        "colab_type": "code",
        "id": "zzRpdLrGx2qk",
        "colab": {
          "base_uri": "https://localhost:8080/",
          "height": 33
        },
        "outputId": "f129538a-fbcf-45a1-f462-1e810ea78c18"
      },
      "source": [
        "import numpy as np\n",
        "from scipy import stats\n",
        "\n",
        "x = np.array([1.90642, 2.10288, 1.52229, 2.61826, 1.42738, 2.22488, 1.69742, 3.15435, 1.98492, 1.99568])\n",
        "ks_stat, ks_p_valor = stats.kstest(x,'norm',args = (np.mean(x),np.std(x, ddof=1)),N = len(x),alternative='two-sided')\n",
        "ks_stat\n",
        "\n"
      ],
      "execution_count": null,
      "outputs": [
        {
          "output_type": "execute_result",
          "data": {
            "text/plain": [
              "0.17709753067016487"
            ]
          },
          "metadata": {
            "tags": []
          },
          "execution_count": 39
        }
      ]
    },
    {
      "cell_type": "markdown",
      "metadata": {
        "id": "t78GdOpN_RMN",
        "colab_type": "text"
      },
      "source": [
        "## **Obtendo o Valor Crítico**:"
      ]
    },
    {
      "cell_type": "markdown",
      "metadata": {
        "id": "PB4SydAeIE6y",
        "colab_type": "text"
      },
      "source": [
        "### Tabela de Komolgorov-Smirnov com valores críticos:\n",
        "\n",
        "<img alt=\"Colaboratory logo\" width=\"100%\" src=\"https://raw.githubusercontent.com/michellesantana/Estudo/master/Img/tabela_ks.JPG\">"
      ]
    },
    {
      "cell_type": "code",
      "metadata": {
        "id": "HZj_x1-R-2qf",
        "colab_type": "code",
        "colab": {
          "base_uri": "https://localhost:8080/",
          "height": 33
        },
        "outputId": "aca06b63-79fb-457a-8cf2-db180e1bf6c6"
      },
      "source": [
        " # Checking the critical value of the Kolmogorov-Smirnov test\n",
        "def kolmogorov_smirnov_critico(n):\n",
        "    if n <= 40:\n",
        "        # valores entre 1 e 40\n",
        "        kolmogorov_critico = [0.97500, 0.84189, 0.70760, 0.62394, 0.56328, 0.51926, 0.48342, 0.45427, 0.43001, 0.40925, \n",
        "                      0.39122, 0.37543, 0.36143, 0.34890, 0.33760, 0.32733, 0.31796, 0.30936, 0.30143, 0.29408, \n",
        "                      0.28724, 0.28087, 0.27490, 0.26931, 0.26404, 0.25907, 0.25438, 0.24993, 0.24571, 0.24170, \n",
        "                      0.23788, 0.23424, 0.23076, 0.22743, 0.22425, 0.22119, 0.21826, 0.21544, 0.21273, 0.21012]\n",
        "        ks_critico = kolmogorov_critico[n - 1]\n",
        "    elif n > 40:\n",
        "        # valores acima de 40:\n",
        "        kolmogorov_critico = 1.36/(np.sqrt(n))\n",
        "        ks_critico = kolmogorov_critico\n",
        "    else:\n",
        "        pass            \n",
        "            \n",
        "    return ks_critico\n",
        "\n",
        "ks_critico = kolmogorov_smirnov_critico(len(x))\n",
        "print (ks_critico)"
      ],
      "execution_count": null,
      "outputs": [
        {
          "output_type": "stream",
          "text": [
            "0.40925\n"
          ],
          "name": "stdout"
        }
      ]
    },
    {
      "cell_type": "markdown",
      "metadata": {
        "id": "L913IT7BNSXZ",
        "colab_type": "text"
      },
      "source": [
        "### Como Interpretar os resultados:"
      ]
    },
    {
      "cell_type": "code",
      "metadata": {
        "id": "bfUjwJq-BpBp",
        "colab_type": "code",
        "colab": {
          "base_uri": "https://localhost:8080/",
          "height": 33
        },
        "outputId": "96a0e764-7d43-4583-e0d1-f4ca845fcb70"
      },
      "source": [
        "# Conclusão\n",
        "if ks_critico >= ks_stat:\n",
        "  print(\"Os dados seguem distribuição normal, com 95% de nível de confiança\")\n",
        "else:\n",
        "    print(\"Os dados não seguem distribuição normal, com 95% de nível de confiança\")"
      ],
      "execution_count": null,
      "outputs": [
        {
          "output_type": "stream",
          "text": [
            "Os dados seguem distribuição normal, com 95% de nível de confiança\n"
          ],
          "name": "stdout"
        }
      ]
    },
    {
      "cell_type": "markdown",
      "metadata": {
        "id": "9W7HkN68Ivh6",
        "colab_type": "text"
      },
      "source": [
        "# **Acessando Google Drive**:"
      ]
    },
    {
      "cell_type": "code",
      "metadata": {
        "id": "nzoy2g0EH_Z1",
        "colab_type": "code",
        "colab": {}
      },
      "source": [
        "from google.colab import auth\n",
        "auth.authenticate_user()\n",
        "import gspread\n",
        "from oauth2client.client import GoogleCredentials\n",
        "gc = gspread.authorize(GoogleCredentials.get_application_default())\n"
      ],
      "execution_count": null,
      "outputs": []
    },
    {
      "cell_type": "code",
      "metadata": {
        "id": "AF2gVg-jFImR",
        "colab_type": "code",
        "colab": {}
      },
      "source": [
        "import pandas as pd"
      ],
      "execution_count": null,
      "outputs": []
    },
    {
      "cell_type": "markdown",
      "metadata": {
        "id": "_-5FxVeSJVyj",
        "colab_type": "text"
      },
      "source": [
        "# **Acessando os dados direto de uma Google Planilha**:\n",
        "\n",
        "Coloquei os dados, anteriormente colados no próprio campo de código em uma planilha do google, a partir daqui temos que fazer o mesmo teste KS nos mesmos dados utilizando essa estrutura de dados."
      ]
    },
    {
      "cell_type": "code",
      "metadata": {
        "id": "gVMQzC0UFO-A",
        "colab_type": "code",
        "colab": {}
      },
      "source": [
        "# Especificando a Planilha Google\n",
        "wb = gc.open_by_url('https://docs.google.com/spreadsheets/d/1GY0jHzLM5TnqpczJniGG2Vkvvbjpsx8eZ_1iwRYX_PA/edit#gid=0')\n",
        "\n",
        "\n",
        "# Especificando Aba da Planilha\n",
        "sheet = wb.worksheet ('Página1')\n",
        "sheet\n",
        "\n",
        "\n",
        "# Agora que especificamos a guia, é hora de obter os dados. Para fazer isso, \n",
        "#vamos apenas chamar a get_all_values()função fora do objeto de pasta que criamos acima:\n",
        "dados = sheet.get_all_values()\n",
        "dados"
      ],
      "execution_count": null,
      "outputs": []
    },
    {
      "cell_type": "code",
      "metadata": {
        "id": "Ylq0l0b6NsvL",
        "colab_type": "code",
        "colab": {}
      },
      "source": [
        "#tornar a visualização mais amigável colocando-o em um DataFrame do Pandas com as linhas abaixo:\n",
        "df = pd.DataFrame(dados)\n",
        "df.columns = df.iloc [0]\n",
        "df = df.iloc [1:]\n",
        "df.head()\n"
      ],
      "execution_count": null,
      "outputs": []
    },
    {
      "cell_type": "markdown",
      "metadata": {
        "id": "7IZ7gpc4NyR4",
        "colab_type": "text"
      },
      "source": [
        "A primeira linha acima é colocar os dados no Pandas DataFrame, e as próximas duas linhas são apenas uma limpeza simples que usa a primeira linha como nomes de coluna para o DataFrame."
      ]
    },
    {
      "cell_type": "markdown",
      "metadata": {
        "id": "fdoU8koGOEDL",
        "colab_type": "text"
      },
      "source": [
        "Agora, se você apenas chamar a head()função do DataFrame (isso mostra apenas as primeiras 5 linhas), poderá ver o que criamos:"
      ]
    },
    {
      "cell_type": "code",
      "metadata": {
        "id": "Hx4fVY_vX0Jg",
        "colab_type": "code",
        "colab": {}
      },
      "source": [
        "# Mudando \",\" por \".\"\n",
        "df[\"dados\"] = [x.replace(\",\", \".\") for x in df[\"dados\"]]\n",
        "\n",
        "df[\"dados\"] = df[\"dados\"].astype(float)"
      ],
      "execution_count": null,
      "outputs": []
    },
    {
      "cell_type": "code",
      "metadata": {
        "id": "3LER6eHOWLib",
        "colab_type": "code",
        "colab": {}
      },
      "source": [
        "df[\"dados\"] # chamando coluna já alterada"
      ],
      "execution_count": null,
      "outputs": []
    },
    {
      "cell_type": "code",
      "metadata": {
        "id": "xLAYbLifYD4g",
        "colab_type": "code",
        "colab": {}
      },
      "source": [
        "df # chamando o df já com coluna 'dados' alterada"
      ],
      "execution_count": null,
      "outputs": []
    },
    {
      "cell_type": "code",
      "metadata": {
        "colab_type": "code",
        "id": "sF9KsfrR_o8H",
        "colab": {}
      },
      "source": [
        "import numpy as np\n",
        "from scipy import stats\n",
        "\n",
        "x = np.array(df[\"dados\"])\n",
        "stats.kstest(x, 'norm',args = (np.mean(x),np.std(x,ddof=1)),N = len(x),alternative='two-sided')"
      ],
      "execution_count": null,
      "outputs": []
    }
  ]
}